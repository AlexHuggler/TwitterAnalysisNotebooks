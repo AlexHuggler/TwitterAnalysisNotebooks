{
 "cells": [
  {
   "cell_type": "code",
   "execution_count": 1,
   "id": "9397cac9",
   "metadata": {},
   "outputs": [
    {
     "name": "stdout",
     "output_type": "stream",
     "text": [
     
     ]
    }
   ],
   "source": [
    "# Importing Snscrape and required libraries \n",
    "import snscrape.modules.twitter as sntwitter\n",
    "import os\n",
    "os.chdir(\"your file path\")\n",
    "print(os.getcwd())\n",
    "import pandas as pd\n",
    "import warnings\n",
    "warnings.filterwarnings(\"ignore\")"
   ]
  },
  {
   "cell_type": "code",
   "execution_count": 3,
   "id": "e987c4cb",
   "metadata": {},
   "outputs": [],
   "source": [
    "# Creating list to append tweet data\n",
    "tweets_list = []\n",
    "\n",
    "# Using TwitterSearchScraper to scrape Tweets with Dallas Mavericks as a key phrase and appending resulting tweets to list\n",
    "for i,tweet in enumerate(sntwitter.TwitterSearchScraper('Dallas Mavericks since:2021-10-01 until:2022-10-04').get_items()):\n",
    "    if i>100000:\n",
    "        break\n",
    "    tweets_list.append([tweet.date, tweet.id, tweet.content, tweet.user.username, tweet.user.location, tweet.replyCount, tweet.retweetCount, tweet.likeCount, tweet.lang, tweet.sourceLabel, tweet.user.followersCount, tweet.user.friendsCount, tweet.user.verified ])\n",
    "    \n",
    "# Creating a dataframe from the tweets list above\n",
    "tweets_df = pd.DataFrame(tweets_list, columns=['Datetime', 'Tweet Id', 'Text', 'Username', 'location', 'reply count', 'retweet count', 'like count', 'language', 'Twitter Access Point', 'Follower Count', ' Friends Count', 'verified' ])"
   ]
  },
  {
   "cell_type": "code",
   "execution_count": 4,
   "id": "e8cca109",
   "metadata": {},
   "outputs": [],
   "source": [
    "# Exporting data to a csv to save information and for publishing at a later date\n",
    "tweets_df.to_csv('Mavericks.csv')"
   ]
  }
 ],
 "metadata": {
  "kernelspec": {
   "display_name": "Python 3 (ipykernel)",
   "language": "python",
   "name": "python3"
  },
  "language_info": {
   "codemirror_mode": {
    "name": "ipython",
    "version": 3
   },
   "file_extension": ".py",
   "mimetype": "text/x-python",
   "name": "python",
   "nbconvert_exporter": "python",
   "pygments_lexer": "ipython3",
   "version": "3.8.13"
  }
 },
 "nbformat": 4,
 "nbformat_minor": 5
}
